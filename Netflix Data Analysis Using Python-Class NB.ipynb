{
 "cells": [
  {
   "cell_type": "markdown",
   "id": "c068a1d0",
   "metadata": {},
   "source": [
    "# Netflix Data Analysis Using Python"
   ]
  },
  {
   "cell_type": "markdown",
   "id": "1b3ba75c",
   "metadata": {},
   "source": [
    "The Netflx data set has the information about the Tv Shows & Movies available on Netflix till 2021.\n",
    "\n",
    "The Data set available from Flexible which is a Third Party Netflix which engine , and available on Kaggle dataset for free."
   ]
  },
  {
   "cell_type": "markdown",
   "id": "6ff2a48f",
   "metadata": {},
   "source": [
    "# Import Library"
   ]
  },
  {
   "cell_type": "code",
   "execution_count": 1,
   "id": "0f9f6c8f",
   "metadata": {},
   "outputs": [],
   "source": [
    "import pandas as pd\n",
    "import numpy"
   ]
  },
  {
   "cell_type": "markdown",
   "id": "4b0eb245",
   "metadata": {},
   "source": [
    "# Uploading Csv fle"
   ]
  },
  {
   "cell_type": "code",
   "execution_count": 2,
   "id": "ed2599bf",
   "metadata": {},
   "outputs": [],
   "source": [
    "df =pd.read_csv(\"Netflix.csv\") "
   ]
  },
  {
   "cell_type": "markdown",
   "id": "7039b6fb",
   "metadata": {},
   "source": [
    "# Data Preprocessing\n"
   ]
  },
  {
   "cell_type": "markdown",
   "id": "6ef53727",
   "metadata": {},
   "source": [
    "# .head()"
   ]
  },
  {
   "cell_type": "markdown",
   "id": "c00d2667",
   "metadata": {},
   "source": [
    "head is used show to the By default = 5 rows in the dataset"
   ]
  },
  {
   "cell_type": "code",
   "execution_count": 3,
   "id": "0e46aa7e",
   "metadata": {},
   "outputs": [
    {
     "data": {
      "text/html": [
       "<div>\n",
       "<style scoped>\n",
       "    .dataframe tbody tr th:only-of-type {\n",
       "        vertical-align: middle;\n",
       "    }\n",
       "\n",
       "    .dataframe tbody tr th {\n",
       "        vertical-align: top;\n",
       "    }\n",
       "\n",
       "    .dataframe thead th {\n",
       "        text-align: right;\n",
       "    }\n",
       "</style>\n",
       "<table border=\"1\" class=\"dataframe\">\n",
       "  <thead>\n",
       "    <tr style=\"text-align: right;\">\n",
       "      <th></th>\n",
       "      <th>Show_Id</th>\n",
       "      <th>Category</th>\n",
       "      <th>Title</th>\n",
       "      <th>Director</th>\n",
       "      <th>Cast</th>\n",
       "      <th>Country</th>\n",
       "      <th>Release_Date</th>\n",
       "      <th>Rating</th>\n",
       "      <th>Duration</th>\n",
       "      <th>Type</th>\n",
       "      <th>Description</th>\n",
       "    </tr>\n",
       "  </thead>\n",
       "  <tbody>\n",
       "    <tr>\n",
       "      <th>0</th>\n",
       "      <td>s1</td>\n",
       "      <td>TV Show</td>\n",
       "      <td>3%</td>\n",
       "      <td>NaN</td>\n",
       "      <td>João Miguel, Bianca Comparato, Michel Gomes, R...</td>\n",
       "      <td>Brazil</td>\n",
       "      <td>14-Aug-20</td>\n",
       "      <td>TV-MA</td>\n",
       "      <td>4 Seasons</td>\n",
       "      <td>International TV Shows, TV Dramas, TV Sci-Fi &amp;...</td>\n",
       "      <td>In a future where the elite inhabit an island ...</td>\n",
       "    </tr>\n",
       "    <tr>\n",
       "      <th>1</th>\n",
       "      <td>s2</td>\n",
       "      <td>Movie</td>\n",
       "      <td>7:19</td>\n",
       "      <td>Jorge Michel Grau</td>\n",
       "      <td>Demián Bichir, Héctor Bonilla, Oscar Serrano, ...</td>\n",
       "      <td>Mexico</td>\n",
       "      <td>23-Dec-16</td>\n",
       "      <td>TV-MA</td>\n",
       "      <td>93 min</td>\n",
       "      <td>Dramas, International Movies</td>\n",
       "      <td>After a devastating earthquake hits Mexico Cit...</td>\n",
       "    </tr>\n",
       "    <tr>\n",
       "      <th>2</th>\n",
       "      <td>s3</td>\n",
       "      <td>Movie</td>\n",
       "      <td>23:59</td>\n",
       "      <td>Gilbert Chan</td>\n",
       "      <td>Tedd Chan, Stella Chung, Henley Hii, Lawrence ...</td>\n",
       "      <td>Singapore</td>\n",
       "      <td>20-Dec-18</td>\n",
       "      <td>R</td>\n",
       "      <td>78 min</td>\n",
       "      <td>Horror Movies, International Movies</td>\n",
       "      <td>When an army recruit is found dead, his fellow...</td>\n",
       "    </tr>\n",
       "    <tr>\n",
       "      <th>3</th>\n",
       "      <td>s4</td>\n",
       "      <td>Movie</td>\n",
       "      <td>9</td>\n",
       "      <td>Shane Acker</td>\n",
       "      <td>Elijah Wood, John C. Reilly, Jennifer Connelly...</td>\n",
       "      <td>United States</td>\n",
       "      <td>16-Nov-17</td>\n",
       "      <td>PG-13</td>\n",
       "      <td>80 min</td>\n",
       "      <td>Action &amp; Adventure, Independent Movies, Sci-Fi...</td>\n",
       "      <td>In a postapocalyptic world, rag-doll robots hi...</td>\n",
       "    </tr>\n",
       "    <tr>\n",
       "      <th>4</th>\n",
       "      <td>s5</td>\n",
       "      <td>Movie</td>\n",
       "      <td>21</td>\n",
       "      <td>Robert Luketic</td>\n",
       "      <td>Jim Sturgess, Kevin Spacey, Kate Bosworth, Aar...</td>\n",
       "      <td>United States</td>\n",
       "      <td>1-Jan-20</td>\n",
       "      <td>PG-13</td>\n",
       "      <td>123 min</td>\n",
       "      <td>Dramas</td>\n",
       "      <td>A brilliant group of students become card-coun...</td>\n",
       "    </tr>\n",
       "  </tbody>\n",
       "</table>\n",
       "</div>"
      ],
      "text/plain": [
       "  Show_Id Category  Title           Director  \\\n",
       "0      s1  TV Show     3%                NaN   \n",
       "1      s2    Movie   7:19  Jorge Michel Grau   \n",
       "2      s3    Movie  23:59       Gilbert Chan   \n",
       "3      s4    Movie      9        Shane Acker   \n",
       "4      s5    Movie     21     Robert Luketic   \n",
       "\n",
       "                                                Cast        Country  \\\n",
       "0  João Miguel, Bianca Comparato, Michel Gomes, R...         Brazil   \n",
       "1  Demián Bichir, Héctor Bonilla, Oscar Serrano, ...         Mexico   \n",
       "2  Tedd Chan, Stella Chung, Henley Hii, Lawrence ...      Singapore   \n",
       "3  Elijah Wood, John C. Reilly, Jennifer Connelly...  United States   \n",
       "4  Jim Sturgess, Kevin Spacey, Kate Bosworth, Aar...  United States   \n",
       "\n",
       "  Release_Date Rating   Duration  \\\n",
       "0    14-Aug-20  TV-MA  4 Seasons   \n",
       "1    23-Dec-16  TV-MA     93 min   \n",
       "2    20-Dec-18      R     78 min   \n",
       "3    16-Nov-17  PG-13     80 min   \n",
       "4     1-Jan-20  PG-13    123 min   \n",
       "\n",
       "                                                Type  \\\n",
       "0  International TV Shows, TV Dramas, TV Sci-Fi &...   \n",
       "1                       Dramas, International Movies   \n",
       "2                Horror Movies, International Movies   \n",
       "3  Action & Adventure, Independent Movies, Sci-Fi...   \n",
       "4                                             Dramas   \n",
       "\n",
       "                                         Description  \n",
       "0  In a future where the elite inhabit an island ...  \n",
       "1  After a devastating earthquake hits Mexico Cit...  \n",
       "2  When an army recruit is found dead, his fellow...  \n",
       "3  In a postapocalyptic world, rag-doll robots hi...  \n",
       "4  A brilliant group of students become card-coun...  "
      ]
     },
     "execution_count": 3,
     "metadata": {},
     "output_type": "execute_result"
    }
   ],
   "source": [
    "df.head(5)"
   ]
  },
  {
   "cell_type": "markdown",
   "id": "765026b7",
   "metadata": {},
   "source": [
    "# .tail()"
   ]
  },
  {
   "cell_type": "markdown",
   "id": "8cd094b4",
   "metadata": {},
   "source": [
    "tail is used to show rows by Descending order"
   ]
  },
  {
   "cell_type": "code",
   "execution_count": 4,
   "id": "036745ba",
   "metadata": {},
   "outputs": [
    {
     "data": {
      "text/html": [
       "<div>\n",
       "<style scoped>\n",
       "    .dataframe tbody tr th:only-of-type {\n",
       "        vertical-align: middle;\n",
       "    }\n",
       "\n",
       "    .dataframe tbody tr th {\n",
       "        vertical-align: top;\n",
       "    }\n",
       "\n",
       "    .dataframe thead th {\n",
       "        text-align: right;\n",
       "    }\n",
       "</style>\n",
       "<table border=\"1\" class=\"dataframe\">\n",
       "  <thead>\n",
       "    <tr style=\"text-align: right;\">\n",
       "      <th></th>\n",
       "      <th>Show_Id</th>\n",
       "      <th>Category</th>\n",
       "      <th>Title</th>\n",
       "      <th>Director</th>\n",
       "      <th>Cast</th>\n",
       "      <th>Country</th>\n",
       "      <th>Release_Date</th>\n",
       "      <th>Rating</th>\n",
       "      <th>Duration</th>\n",
       "      <th>Type</th>\n",
       "      <th>Description</th>\n",
       "    </tr>\n",
       "  </thead>\n",
       "  <tbody>\n",
       "    <tr>\n",
       "      <th>7784</th>\n",
       "      <td>s7783</td>\n",
       "      <td>Movie</td>\n",
       "      <td>Zozo</td>\n",
       "      <td>Josef Fares</td>\n",
       "      <td>Imad Creidi, Antoinette Turk, Elias Gergi, Car...</td>\n",
       "      <td>Sweden, Czech Republic, United Kingdom, Denmar...</td>\n",
       "      <td>19-Oct-20</td>\n",
       "      <td>TV-MA</td>\n",
       "      <td>99 min</td>\n",
       "      <td>Dramas, International Movies</td>\n",
       "      <td>When Lebanon's Civil War deprives Zozo of his ...</td>\n",
       "    </tr>\n",
       "    <tr>\n",
       "      <th>7785</th>\n",
       "      <td>s7784</td>\n",
       "      <td>Movie</td>\n",
       "      <td>Zubaan</td>\n",
       "      <td>Mozez Singh</td>\n",
       "      <td>Vicky Kaushal, Sarah-Jane Dias, Raaghav Chanan...</td>\n",
       "      <td>India</td>\n",
       "      <td>2-Mar-19</td>\n",
       "      <td>TV-14</td>\n",
       "      <td>111 min</td>\n",
       "      <td>Dramas, International Movies, Music &amp; Musicals</td>\n",
       "      <td>A scrappy but poor boy worms his way into a ty...</td>\n",
       "    </tr>\n",
       "    <tr>\n",
       "      <th>7786</th>\n",
       "      <td>s7785</td>\n",
       "      <td>Movie</td>\n",
       "      <td>Zulu Man in Japan</td>\n",
       "      <td>NaN</td>\n",
       "      <td>Nasty C</td>\n",
       "      <td>NaN</td>\n",
       "      <td>25-Sep-20</td>\n",
       "      <td>TV-MA</td>\n",
       "      <td>44 min</td>\n",
       "      <td>Documentaries, International Movies, Music &amp; M...</td>\n",
       "      <td>In this documentary, South African rapper Nast...</td>\n",
       "    </tr>\n",
       "    <tr>\n",
       "      <th>7787</th>\n",
       "      <td>s7786</td>\n",
       "      <td>TV Show</td>\n",
       "      <td>Zumbo's Just Desserts</td>\n",
       "      <td>NaN</td>\n",
       "      <td>Adriano Zumbo, Rachel Khoo</td>\n",
       "      <td>Australia</td>\n",
       "      <td>31-Oct-20</td>\n",
       "      <td>TV-PG</td>\n",
       "      <td>1 Season</td>\n",
       "      <td>International TV Shows, Reality TV</td>\n",
       "      <td>Dessert wizard Adriano Zumbo looks for the nex...</td>\n",
       "    </tr>\n",
       "    <tr>\n",
       "      <th>7788</th>\n",
       "      <td>s7787</td>\n",
       "      <td>Movie</td>\n",
       "      <td>ZZ TOP: THAT LITTLE OL' BAND FROM TEXAS</td>\n",
       "      <td>Sam Dunn</td>\n",
       "      <td>NaN</td>\n",
       "      <td>United Kingdom, Canada, United States</td>\n",
       "      <td>1-Mar-20</td>\n",
       "      <td>TV-MA</td>\n",
       "      <td>90 min</td>\n",
       "      <td>Documentaries, Music &amp; Musicals</td>\n",
       "      <td>This documentary delves into the mystique behi...</td>\n",
       "    </tr>\n",
       "  </tbody>\n",
       "</table>\n",
       "</div>"
      ],
      "text/plain": [
       "     Show_Id Category                                    Title     Director  \\\n",
       "7784   s7783    Movie                                     Zozo  Josef Fares   \n",
       "7785   s7784    Movie                                   Zubaan  Mozez Singh   \n",
       "7786   s7785    Movie                        Zulu Man in Japan          NaN   \n",
       "7787   s7786  TV Show                    Zumbo's Just Desserts          NaN   \n",
       "7788   s7787    Movie  ZZ TOP: THAT LITTLE OL' BAND FROM TEXAS     Sam Dunn   \n",
       "\n",
       "                                                   Cast  \\\n",
       "7784  Imad Creidi, Antoinette Turk, Elias Gergi, Car...   \n",
       "7785  Vicky Kaushal, Sarah-Jane Dias, Raaghav Chanan...   \n",
       "7786                                            Nasty C   \n",
       "7787                         Adriano Zumbo, Rachel Khoo   \n",
       "7788                                                NaN   \n",
       "\n",
       "                                                Country Release_Date Rating  \\\n",
       "7784  Sweden, Czech Republic, United Kingdom, Denmar...    19-Oct-20  TV-MA   \n",
       "7785                                              India     2-Mar-19  TV-14   \n",
       "7786                                                NaN    25-Sep-20  TV-MA   \n",
       "7787                                          Australia    31-Oct-20  TV-PG   \n",
       "7788              United Kingdom, Canada, United States     1-Mar-20  TV-MA   \n",
       "\n",
       "      Duration                                               Type  \\\n",
       "7784    99 min                       Dramas, International Movies   \n",
       "7785   111 min     Dramas, International Movies, Music & Musicals   \n",
       "7786    44 min  Documentaries, International Movies, Music & M...   \n",
       "7787  1 Season                 International TV Shows, Reality TV   \n",
       "7788    90 min                    Documentaries, Music & Musicals   \n",
       "\n",
       "                                            Description  \n",
       "7784  When Lebanon's Civil War deprives Zozo of his ...  \n",
       "7785  A scrappy but poor boy worms his way into a ty...  \n",
       "7786  In this documentary, South African rapper Nast...  \n",
       "7787  Dessert wizard Adriano Zumbo looks for the nex...  \n",
       "7788  This documentary delves into the mystique behi...  "
      ]
     },
     "execution_count": 4,
     "metadata": {},
     "output_type": "execute_result"
    }
   ],
   "source": [
    "df.tail()"
   ]
  },
  {
   "cell_type": "markdown",
   "id": "2df4f57a",
   "metadata": {},
   "source": [
    "# .shape"
   ]
  },
  {
   "cell_type": "markdown",
   "id": "11191fba",
   "metadata": {},
   "source": [
    "It show the total no of rows & Column in the dataset"
   ]
  },
  {
   "cell_type": "code",
   "execution_count": 5,
   "id": "3408ca28",
   "metadata": {},
   "outputs": [
    {
     "data": {
      "text/plain": [
       "(7789, 11)"
      ]
     },
     "execution_count": 5,
     "metadata": {},
     "output_type": "execute_result"
    }
   ],
   "source": [
    "df.shape"
   ]
  },
  {
   "cell_type": "markdown",
   "id": "f792d26f",
   "metadata": {},
   "source": [
    "# .Columns"
   ]
  },
  {
   "cell_type": "markdown",
   "id": "20fa4ae3",
   "metadata": {},
   "source": [
    "It show the no of each Column"
   ]
  },
  {
   "cell_type": "code",
   "execution_count": 6,
   "id": "b03593be",
   "metadata": {},
   "outputs": [
    {
     "data": {
      "text/plain": [
       "Index(['Show_Id', 'Category', 'Title', 'Director', 'Cast', 'Country',\n",
       "       'Release_Date', 'Rating', 'Duration', 'Type', 'Description'],\n",
       "      dtype='object')"
      ]
     },
     "execution_count": 6,
     "metadata": {},
     "output_type": "execute_result"
    }
   ],
   "source": [
    "df.columns"
   ]
  },
  {
   "cell_type": "markdown",
   "id": "bcf310c4",
   "metadata": {},
   "source": [
    "# .info"
   ]
  },
  {
   "cell_type": "markdown",
   "id": "4f8dd793",
   "metadata": {},
   "source": [
    "This Attribute show the information about the data set"
   ]
  },
  {
   "cell_type": "code",
   "execution_count": 7,
   "id": "8aad8ed9",
   "metadata": {},
   "outputs": [
    {
     "data": {
      "text/plain": [
       "Show_Id         object\n",
       "Category        object\n",
       "Title           object\n",
       "Director        object\n",
       "Cast            object\n",
       "Country         object\n",
       "Release_Date    object\n",
       "Rating          object\n",
       "Duration        object\n",
       "Type            object\n",
       "Description     object\n",
       "dtype: object"
      ]
     },
     "execution_count": 7,
     "metadata": {},
     "output_type": "execute_result"
    }
   ],
   "source": [
    "df.dtypes"
   ]
  },
  {
   "cell_type": "markdown",
   "id": "e3fbcca1",
   "metadata": {},
   "source": [
    "# .unique()"
   ]
  },
  {
   "cell_type": "markdown",
   "id": "008df379",
   "metadata": {},
   "source": [
    "In a column, It show the unique value of specific column.\n",
    "- Q. Find out what are the different countries predent in the dataset\n",
    "- Q. Print any 5 countries from this dataset using array slicing"
   ]
  },
  {
   "cell_type": "code",
   "execution_count": 8,
   "id": "e37ab9a4",
   "metadata": {},
   "outputs": [
    {
     "data": {
      "text/plain": [
       "array(['Egypt', 'India', 'Poland, United States', 'Thailand'],\n",
       "      dtype=object)"
      ]
     },
     "execution_count": 8,
     "metadata": {},
     "output_type": "execute_result"
    }
   ],
   "source": [
    "gf = df['Country'].unique()\n",
    "gf[5:9]\n"
   ]
  },
  {
   "cell_type": "markdown",
   "id": "e91cc709",
   "metadata": {},
   "source": [
    "# .nuique()"
   ]
  },
  {
   "cell_type": "markdown",
   "id": "c5cb0ab6",
   "metadata": {},
   "source": [
    "* Q. show the total no of unque value from whole data frame"
   ]
  },
  {
   "cell_type": "code",
   "execution_count": 9,
   "id": "531d5eb0",
   "metadata": {},
   "outputs": [
    {
     "data": {
      "text/plain": [
       "681"
      ]
     },
     "execution_count": 9,
     "metadata": {},
     "output_type": "execute_result"
    }
   ],
   "source": [
    "gf2 = df['Country'].nunique()\n",
    "gf2"
   ]
  },
  {
   "cell_type": "markdown",
   "id": "857aaf2c",
   "metadata": {},
   "source": [
    "# .describe()"
   ]
  },
  {
   "cell_type": "markdown",
   "id": "09609b99",
   "metadata": {},
   "source": [
    "It show the Count, mean , median etc\n",
    "- Q. Do you need to use describe for this data set analysis?"
   ]
  },
  {
   "cell_type": "code",
   "execution_count": 10,
   "id": "f25e8c38",
   "metadata": {},
   "outputs": [
    {
     "data": {
      "text/html": [
       "<div>\n",
       "<style scoped>\n",
       "    .dataframe tbody tr th:only-of-type {\n",
       "        vertical-align: middle;\n",
       "    }\n",
       "\n",
       "    .dataframe tbody tr th {\n",
       "        vertical-align: top;\n",
       "    }\n",
       "\n",
       "    .dataframe thead th {\n",
       "        text-align: right;\n",
       "    }\n",
       "</style>\n",
       "<table border=\"1\" class=\"dataframe\">\n",
       "  <thead>\n",
       "    <tr style=\"text-align: right;\">\n",
       "      <th></th>\n",
       "      <th>Show_Id</th>\n",
       "      <th>Category</th>\n",
       "      <th>Title</th>\n",
       "      <th>Director</th>\n",
       "      <th>Cast</th>\n",
       "      <th>Country</th>\n",
       "      <th>Release_Date</th>\n",
       "      <th>Rating</th>\n",
       "      <th>Duration</th>\n",
       "      <th>Type</th>\n",
       "      <th>Description</th>\n",
       "    </tr>\n",
       "  </thead>\n",
       "  <tbody>\n",
       "    <tr>\n",
       "      <th>count</th>\n",
       "      <td>7789</td>\n",
       "      <td>7789</td>\n",
       "      <td>7789</td>\n",
       "      <td>5401</td>\n",
       "      <td>7071</td>\n",
       "      <td>7282</td>\n",
       "      <td>7779</td>\n",
       "      <td>7782</td>\n",
       "      <td>7789</td>\n",
       "      <td>7789</td>\n",
       "      <td>7789</td>\n",
       "    </tr>\n",
       "    <tr>\n",
       "      <th>unique</th>\n",
       "      <td>7787</td>\n",
       "      <td>2</td>\n",
       "      <td>7787</td>\n",
       "      <td>4050</td>\n",
       "      <td>6831</td>\n",
       "      <td>681</td>\n",
       "      <td>1565</td>\n",
       "      <td>14</td>\n",
       "      <td>216</td>\n",
       "      <td>492</td>\n",
       "      <td>7769</td>\n",
       "    </tr>\n",
       "    <tr>\n",
       "      <th>top</th>\n",
       "      <td>s6621</td>\n",
       "      <td>Movie</td>\n",
       "      <td>The Lost Okoroshi</td>\n",
       "      <td>Raúl Campos, Jan Suter</td>\n",
       "      <td>David Attenborough</td>\n",
       "      <td>United States</td>\n",
       "      <td>1-Jan-20</td>\n",
       "      <td>TV-MA</td>\n",
       "      <td>1 Season</td>\n",
       "      <td>Documentaries</td>\n",
       "      <td>Multiple women report their husbands as missin...</td>\n",
       "    </tr>\n",
       "    <tr>\n",
       "      <th>freq</th>\n",
       "      <td>2</td>\n",
       "      <td>5379</td>\n",
       "      <td>2</td>\n",
       "      <td>18</td>\n",
       "      <td>18</td>\n",
       "      <td>2556</td>\n",
       "      <td>118</td>\n",
       "      <td>2865</td>\n",
       "      <td>1608</td>\n",
       "      <td>334</td>\n",
       "      <td>3</td>\n",
       "    </tr>\n",
       "  </tbody>\n",
       "</table>\n",
       "</div>"
      ],
      "text/plain": [
       "       Show_Id Category              Title                Director  \\\n",
       "count     7789     7789               7789                    5401   \n",
       "unique    7787        2               7787                    4050   \n",
       "top      s6621    Movie  The Lost Okoroshi  Raúl Campos, Jan Suter   \n",
       "freq         2     5379                  2                      18   \n",
       "\n",
       "                      Cast        Country Release_Date Rating  Duration  \\\n",
       "count                 7071           7282         7779   7782      7789   \n",
       "unique                6831            681         1565     14       216   \n",
       "top     David Attenborough  United States     1-Jan-20  TV-MA  1 Season   \n",
       "freq                    18           2556          118   2865      1608   \n",
       "\n",
       "                 Type                                        Description  \n",
       "count            7789                                               7789  \n",
       "unique            492                                               7769  \n",
       "top     Documentaries  Multiple women report their husbands as missin...  \n",
       "freq              334                                                  3  "
      ]
     },
     "execution_count": 10,
     "metadata": {},
     "output_type": "execute_result"
    }
   ],
   "source": [
    "df.describe()"
   ]
  },
  {
   "cell_type": "markdown",
   "id": "3ec53771",
   "metadata": {},
   "source": [
    "No, because there is more categorical data than numerical, it is not necessary."
   ]
  },
  {
   "cell_type": "markdown",
   "id": "6f6a7eb4",
   "metadata": {},
   "source": [
    "# .value_counts"
   ]
  },
  {
   "cell_type": "markdown",
   "id": "a0e05cbd",
   "metadata": {},
   "source": [
    "It Shows all the unique values with their count\n",
    "- Q. show top 10 countries and the values\n",
    "- Q. show top 5 Types of movies are"
   ]
  },
  {
   "cell_type": "code",
   "execution_count": 11,
   "id": "8fdcafd6",
   "metadata": {},
   "outputs": [
    {
     "data": {
      "text/plain": [
       "United States                                                   2556\n",
       "India                                                            923\n",
       "United Kingdom                                                   397\n",
       "Japan                                                            226\n",
       "South Korea                                                      183\n",
       "                                                                ... \n",
       "Russia, United States, China                                       1\n",
       "Italy, Switzerland, France, Germany                                1\n",
       "United States, United Kingdom, Canada                              1\n",
       "United States, United Kingdom, Japan                               1\n",
       "Sweden, Czech Republic, United Kingdom, Denmark, Netherlands       1\n",
       "Name: Country, Length: 681, dtype: int64"
      ]
     },
     "execution_count": 11,
     "metadata": {},
     "output_type": "execute_result"
    }
   ],
   "source": [
    "df[\"Country\"].value_counts()"
   ]
  },
  {
   "cell_type": "code",
   "execution_count": 12,
   "id": "0ce03a6a",
   "metadata": {},
   "outputs": [
    {
     "data": {
      "text/plain": [
       "United States     2556\n",
       "India              923\n",
       "United Kingdom     397\n",
       "Japan              226\n",
       "South Korea        183\n",
       "Canada             177\n",
       "Spain              134\n",
       "France             115\n",
       "Egypt              101\n",
       "Turkey             100\n",
       "Name: Country, dtype: int64"
      ]
     },
     "execution_count": 12,
     "metadata": {},
     "output_type": "execute_result"
    }
   ],
   "source": [
    "df[\"Country\"].value_counts().head(10)"
   ]
  },
  {
   "cell_type": "code",
   "execution_count": 13,
   "id": "b3dc2f1c",
   "metadata": {},
   "outputs": [
    {
     "data": {
      "text/plain": [
       "Documentaries                                       334\n",
       "Stand-Up Comedy                                     321\n",
       "Dramas, International Movies                        320\n",
       "Comedies, Dramas, International Movies              243\n",
       "Dramas, Independent Movies, International Movies    215\n",
       "Name: Type, dtype: int64"
      ]
     },
     "execution_count": 13,
     "metadata": {},
     "output_type": "execute_result"
    }
   ],
   "source": [
    "df[\"Type\"].value_counts().head(5)"
   ]
  },
  {
   "cell_type": "markdown",
   "id": "9b9ab6f2",
   "metadata": {},
   "source": [
    "# .isnull()"
   ]
  },
  {
   "cell_type": "markdown",
   "id": "b44be19d",
   "metadata": {},
   "source": [
    "It shows the how many null/ missing values"
   ]
  },
  {
   "cell_type": "code",
   "execution_count": 14,
   "id": "ab0e2a6d",
   "metadata": {},
   "outputs": [
    {
     "data": {
      "text/html": [
       "<div>\n",
       "<style scoped>\n",
       "    .dataframe tbody tr th:only-of-type {\n",
       "        vertical-align: middle;\n",
       "    }\n",
       "\n",
       "    .dataframe tbody tr th {\n",
       "        vertical-align: top;\n",
       "    }\n",
       "\n",
       "    .dataframe thead th {\n",
       "        text-align: right;\n",
       "    }\n",
       "</style>\n",
       "<table border=\"1\" class=\"dataframe\">\n",
       "  <thead>\n",
       "    <tr style=\"text-align: right;\">\n",
       "      <th></th>\n",
       "      <th>Show_Id</th>\n",
       "      <th>Category</th>\n",
       "      <th>Title</th>\n",
       "      <th>Director</th>\n",
       "      <th>Cast</th>\n",
       "      <th>Country</th>\n",
       "      <th>Release_Date</th>\n",
       "      <th>Rating</th>\n",
       "      <th>Duration</th>\n",
       "      <th>Type</th>\n",
       "      <th>Description</th>\n",
       "    </tr>\n",
       "  </thead>\n",
       "  <tbody>\n",
       "    <tr>\n",
       "      <th>0</th>\n",
       "      <td>False</td>\n",
       "      <td>False</td>\n",
       "      <td>False</td>\n",
       "      <td>True</td>\n",
       "      <td>False</td>\n",
       "      <td>False</td>\n",
       "      <td>False</td>\n",
       "      <td>False</td>\n",
       "      <td>False</td>\n",
       "      <td>False</td>\n",
       "      <td>False</td>\n",
       "    </tr>\n",
       "    <tr>\n",
       "      <th>1</th>\n",
       "      <td>False</td>\n",
       "      <td>False</td>\n",
       "      <td>False</td>\n",
       "      <td>False</td>\n",
       "      <td>False</td>\n",
       "      <td>False</td>\n",
       "      <td>False</td>\n",
       "      <td>False</td>\n",
       "      <td>False</td>\n",
       "      <td>False</td>\n",
       "      <td>False</td>\n",
       "    </tr>\n",
       "    <tr>\n",
       "      <th>2</th>\n",
       "      <td>False</td>\n",
       "      <td>False</td>\n",
       "      <td>False</td>\n",
       "      <td>False</td>\n",
       "      <td>False</td>\n",
       "      <td>False</td>\n",
       "      <td>False</td>\n",
       "      <td>False</td>\n",
       "      <td>False</td>\n",
       "      <td>False</td>\n",
       "      <td>False</td>\n",
       "    </tr>\n",
       "    <tr>\n",
       "      <th>3</th>\n",
       "      <td>False</td>\n",
       "      <td>False</td>\n",
       "      <td>False</td>\n",
       "      <td>False</td>\n",
       "      <td>False</td>\n",
       "      <td>False</td>\n",
       "      <td>False</td>\n",
       "      <td>False</td>\n",
       "      <td>False</td>\n",
       "      <td>False</td>\n",
       "      <td>False</td>\n",
       "    </tr>\n",
       "    <tr>\n",
       "      <th>4</th>\n",
       "      <td>False</td>\n",
       "      <td>False</td>\n",
       "      <td>False</td>\n",
       "      <td>False</td>\n",
       "      <td>False</td>\n",
       "      <td>False</td>\n",
       "      <td>False</td>\n",
       "      <td>False</td>\n",
       "      <td>False</td>\n",
       "      <td>False</td>\n",
       "      <td>False</td>\n",
       "    </tr>\n",
       "    <tr>\n",
       "      <th>...</th>\n",
       "      <td>...</td>\n",
       "      <td>...</td>\n",
       "      <td>...</td>\n",
       "      <td>...</td>\n",
       "      <td>...</td>\n",
       "      <td>...</td>\n",
       "      <td>...</td>\n",
       "      <td>...</td>\n",
       "      <td>...</td>\n",
       "      <td>...</td>\n",
       "      <td>...</td>\n",
       "    </tr>\n",
       "    <tr>\n",
       "      <th>7784</th>\n",
       "      <td>False</td>\n",
       "      <td>False</td>\n",
       "      <td>False</td>\n",
       "      <td>False</td>\n",
       "      <td>False</td>\n",
       "      <td>False</td>\n",
       "      <td>False</td>\n",
       "      <td>False</td>\n",
       "      <td>False</td>\n",
       "      <td>False</td>\n",
       "      <td>False</td>\n",
       "    </tr>\n",
       "    <tr>\n",
       "      <th>7785</th>\n",
       "      <td>False</td>\n",
       "      <td>False</td>\n",
       "      <td>False</td>\n",
       "      <td>False</td>\n",
       "      <td>False</td>\n",
       "      <td>False</td>\n",
       "      <td>False</td>\n",
       "      <td>False</td>\n",
       "      <td>False</td>\n",
       "      <td>False</td>\n",
       "      <td>False</td>\n",
       "    </tr>\n",
       "    <tr>\n",
       "      <th>7786</th>\n",
       "      <td>False</td>\n",
       "      <td>False</td>\n",
       "      <td>False</td>\n",
       "      <td>True</td>\n",
       "      <td>False</td>\n",
       "      <td>True</td>\n",
       "      <td>False</td>\n",
       "      <td>False</td>\n",
       "      <td>False</td>\n",
       "      <td>False</td>\n",
       "      <td>False</td>\n",
       "    </tr>\n",
       "    <tr>\n",
       "      <th>7787</th>\n",
       "      <td>False</td>\n",
       "      <td>False</td>\n",
       "      <td>False</td>\n",
       "      <td>True</td>\n",
       "      <td>False</td>\n",
       "      <td>False</td>\n",
       "      <td>False</td>\n",
       "      <td>False</td>\n",
       "      <td>False</td>\n",
       "      <td>False</td>\n",
       "      <td>False</td>\n",
       "    </tr>\n",
       "    <tr>\n",
       "      <th>7788</th>\n",
       "      <td>False</td>\n",
       "      <td>False</td>\n",
       "      <td>False</td>\n",
       "      <td>False</td>\n",
       "      <td>True</td>\n",
       "      <td>False</td>\n",
       "      <td>False</td>\n",
       "      <td>False</td>\n",
       "      <td>False</td>\n",
       "      <td>False</td>\n",
       "      <td>False</td>\n",
       "    </tr>\n",
       "  </tbody>\n",
       "</table>\n",
       "<p>7789 rows × 11 columns</p>\n",
       "</div>"
      ],
      "text/plain": [
       "      Show_Id  Category  Title  Director   Cast  Country  Release_Date  \\\n",
       "0       False     False  False      True  False    False         False   \n",
       "1       False     False  False     False  False    False         False   \n",
       "2       False     False  False     False  False    False         False   \n",
       "3       False     False  False     False  False    False         False   \n",
       "4       False     False  False     False  False    False         False   \n",
       "...       ...       ...    ...       ...    ...      ...           ...   \n",
       "7784    False     False  False     False  False    False         False   \n",
       "7785    False     False  False     False  False    False         False   \n",
       "7786    False     False  False      True  False     True         False   \n",
       "7787    False     False  False      True  False    False         False   \n",
       "7788    False     False  False     False   True    False         False   \n",
       "\n",
       "      Rating  Duration   Type  Description  \n",
       "0      False     False  False        False  \n",
       "1      False     False  False        False  \n",
       "2      False     False  False        False  \n",
       "3      False     False  False        False  \n",
       "4      False     False  False        False  \n",
       "...      ...       ...    ...          ...  \n",
       "7784   False     False  False        False  \n",
       "7785   False     False  False        False  \n",
       "7786   False     False  False        False  \n",
       "7787   False     False  False        False  \n",
       "7788   False     False  False        False  \n",
       "\n",
       "[7789 rows x 11 columns]"
      ]
     },
     "execution_count": 14,
     "metadata": {},
     "output_type": "execute_result"
    }
   ],
   "source": [
    "df.isnull()"
   ]
  },
  {
   "cell_type": "markdown",
   "id": "fe27aa7a",
   "metadata": {},
   "source": [
    "# Impute the missing values with `unknown`\n",
    "- Cast\n",
    "- Country"
   ]
  },
  {
   "cell_type": "code",
   "execution_count": 15,
   "id": "ff05f013",
   "metadata": {},
   "outputs": [
    {
     "data": {
      "text/plain": [
       "Index(['Show_Id', 'Category', 'Title', 'Director', 'Cast', 'Country',\n",
       "       'Release_Date', 'Rating', 'Duration', 'Type', 'Description'],\n",
       "      dtype='object')"
      ]
     },
     "execution_count": 15,
     "metadata": {},
     "output_type": "execute_result"
    }
   ],
   "source": [
    "df.columns"
   ]
  },
  {
   "cell_type": "code",
   "execution_count": 16,
   "id": "4d51f36f",
   "metadata": {},
   "outputs": [
    {
     "data": {
      "text/plain": [
       "0"
      ]
     },
     "execution_count": 16,
     "metadata": {},
     "output_type": "execute_result"
    }
   ],
   "source": [
    "df['Cast'].fillna('unknown', inplace = True)\n",
    "df['Cast'].isnull().sum()"
   ]
  },
  {
   "cell_type": "code",
   "execution_count": 19,
   "id": "b8ee3802",
   "metadata": {},
   "outputs": [
    {
     "data": {
      "text/plain": [
       "0"
      ]
     },
     "execution_count": 19,
     "metadata": {},
     "output_type": "execute_result"
    }
   ],
   "source": [
    "df['Country'].fillna('unknown', inplace = True)\n",
    "df['Country'].isnull().sum()"
   ]
  },
  {
   "cell_type": "markdown",
   "id": "b995de38",
   "metadata": {},
   "source": [
    "# For a movie itle \"Zozo\" ; What is the Show Id and Who is the the Director of this Show ?\n",
    "- loc or query"
   ]
  },
  {
   "cell_type": "code",
   "execution_count": 23,
   "id": "6baec02b",
   "metadata": {},
   "outputs": [
    {
     "data": {
      "text/html": [
       "<div>\n",
       "<style scoped>\n",
       "    .dataframe tbody tr th:only-of-type {\n",
       "        vertical-align: middle;\n",
       "    }\n",
       "\n",
       "    .dataframe tbody tr th {\n",
       "        vertical-align: top;\n",
       "    }\n",
       "\n",
       "    .dataframe thead th {\n",
       "        text-align: right;\n",
       "    }\n",
       "</style>\n",
       "<table border=\"1\" class=\"dataframe\">\n",
       "  <thead>\n",
       "    <tr style=\"text-align: right;\">\n",
       "      <th></th>\n",
       "      <th>Show_Id</th>\n",
       "      <th>Category</th>\n",
       "      <th>Title</th>\n",
       "      <th>Director</th>\n",
       "      <th>Cast</th>\n",
       "      <th>Country</th>\n",
       "      <th>Release_Date</th>\n",
       "      <th>Rating</th>\n",
       "      <th>Duration</th>\n",
       "      <th>Type</th>\n",
       "      <th>Description</th>\n",
       "    </tr>\n",
       "  </thead>\n",
       "  <tbody>\n",
       "    <tr>\n",
       "      <th>7784</th>\n",
       "      <td>s7783</td>\n",
       "      <td>Movie</td>\n",
       "      <td>Zozo</td>\n",
       "      <td>Josef Fares</td>\n",
       "      <td>Imad Creidi, Antoinette Turk, Elias Gergi, Car...</td>\n",
       "      <td>Sweden, Czech Republic, United Kingdom, Denmar...</td>\n",
       "      <td>19-Oct-20</td>\n",
       "      <td>TV-MA</td>\n",
       "      <td>99 min</td>\n",
       "      <td>Dramas, International Movies</td>\n",
       "      <td>When Lebanon's Civil War deprives Zozo of his ...</td>\n",
       "    </tr>\n",
       "  </tbody>\n",
       "</table>\n",
       "</div>"
      ],
      "text/plain": [
       "     Show_Id Category Title     Director  \\\n",
       "7784   s7783    Movie  Zozo  Josef Fares   \n",
       "\n",
       "                                                   Cast  \\\n",
       "7784  Imad Creidi, Antoinette Turk, Elias Gergi, Car...   \n",
       "\n",
       "                                                Country Release_Date Rating  \\\n",
       "7784  Sweden, Czech Republic, United Kingdom, Denmar...    19-Oct-20  TV-MA   \n",
       "\n",
       "     Duration                          Type  \\\n",
       "7784   99 min  Dramas, International Movies   \n",
       "\n",
       "                                            Description  \n",
       "7784  When Lebanon's Civil War deprives Zozo of his ...  "
      ]
     },
     "execution_count": 23,
     "metadata": {},
     "output_type": "execute_result"
    }
   ],
   "source": [
    "df.query('Title== \"Zozo\"')"
   ]
  },
  {
   "cell_type": "code",
   "execution_count": null,
   "id": "20a940c4",
   "metadata": {},
   "outputs": [],
   "source": []
  },
  {
   "cell_type": "markdown",
   "id": "8d39a9d5",
   "metadata": {},
   "source": [
    "#    In which year Heighest Number of Tv Shows and Movies were released ?"
   ]
  },
  {
   "cell_type": "markdown",
   "id": "3db6e58c",
   "metadata": {},
   "source": [
    "- First Convert the data type of Column Release_Date and pick year only ? Using to_datetime and dt.year\n",
    "- use value_counts and bar graph to get the highest number"
   ]
  },
  {
   "cell_type": "code",
   "execution_count": 29,
   "id": "cb16372f",
   "metadata": {},
   "outputs": [],
   "source": [
    "from datetime import datetime"
   ]
  },
  {
   "cell_type": "code",
   "execution_count": 31,
   "id": "1f497ab6",
   "metadata": {},
   "outputs": [],
   "source": [
    "df['year'] = pd.to_datetime(df['Release_Date']).dt.year"
   ]
  },
  {
   "cell_type": "code",
   "execution_count": 33,
   "id": "30b8f6d8",
   "metadata": {},
   "outputs": [
    {
     "data": {
      "text/plain": [
       "2019.0    2154\n",
       "2020.0    2010\n",
       "2018.0    1685\n",
       "2017.0    1225\n",
       "2016.0     443\n",
       "2021.0     117\n",
       "2015.0      88\n",
       "2014.0      25\n",
       "2011.0      13\n",
       "2013.0      11\n",
       "2012.0       3\n",
       "2008.0       2\n",
       "2009.0       2\n",
       "2010.0       1\n",
       "Name: year, dtype: int64"
      ]
     },
     "execution_count": 33,
     "metadata": {},
     "output_type": "execute_result"
    }
   ],
   "source": [
    "df['year'].value_counts()"
   ]
  },
  {
   "cell_type": "code",
   "execution_count": 42,
   "id": "9b0f6289",
   "metadata": {},
   "outputs": [
    {
     "data": {
      "text/plain": [
       "2019.0    2154\n",
       "Name: year, dtype: int64"
      ]
     },
     "execution_count": 42,
     "metadata": {},
     "output_type": "execute_result"
    }
   ],
   "source": [
    "df['year'].value_counts().head(1)"
   ]
  },
  {
   "cell_type": "markdown",
   "id": "58043db6",
   "metadata": {},
   "source": [
    "# How many Movies & Tv shows are inthe dataset ? Show With bar grapp"
   ]
  },
  {
   "cell_type": "code",
   "execution_count": 37,
   "id": "e1f71023",
   "metadata": {},
   "outputs": [
    {
     "data": {
      "text/plain": [
       "<AxesSubplot:>"
      ]
     },
     "execution_count": 37,
     "metadata": {},
     "output_type": "execute_result"
    },
    {
     "data": {
      "image/png": "[encoded data removed]",
      "text/plain": [
       "<Figure size 640x480 with 1 Axes>"
      ]
     },
     "metadata": {},
     "output_type": "display_data"
    }
   ],
   "source": [
    "df['year'].value_counts().plot(kind='bar')"
   ]
  },
  {
   "cell_type": "markdown",
   "id": "e2ea9cca",
   "metadata": {},
   "source": [
    "# Show all the Movies that were Released in 2010 ?"
   ]
  },
  {
   "cell_type": "code",
   "execution_count": 57,
   "id": "2368b53b",
   "metadata": {},
   "outputs": [
    {
     "data": {
      "text/html": [
       "<div>\n",
       "<style scoped>\n",
       "    .dataframe tbody tr th:only-of-type {\n",
       "        vertical-align: middle;\n",
       "    }\n",
       "\n",
       "    .dataframe tbody tr th {\n",
       "        vertical-align: top;\n",
       "    }\n",
       "\n",
       "    .dataframe thead th {\n",
       "        text-align: right;\n",
       "    }\n",
       "</style>\n",
       "<table border=\"1\" class=\"dataframe\">\n",
       "  <thead>\n",
       "    <tr style=\"text-align: right;\">\n",
       "      <th></th>\n",
       "      <th>Show_Id</th>\n",
       "      <th>Category</th>\n",
       "      <th>Title</th>\n",
       "      <th>Director</th>\n",
       "      <th>Cast</th>\n",
       "      <th>Country</th>\n",
       "      <th>Release_Date</th>\n",
       "      <th>Rating</th>\n",
       "      <th>Duration</th>\n",
       "      <th>Type</th>\n",
       "      <th>Description</th>\n",
       "      <th>year</th>\n",
       "    </tr>\n",
       "  </thead>\n",
       "  <tbody>\n",
       "    <tr>\n",
       "      <th>3840</th>\n",
       "      <td>s3841</td>\n",
       "      <td>Movie</td>\n",
       "      <td>Mad Ron's Prevues from Hell</td>\n",
       "      <td>Jim Monaco</td>\n",
       "      <td>Nick Pawlow, Jordu Schell, Jay Kushwara, Micha...</td>\n",
       "      <td>United States</td>\n",
       "      <td>1-Nov-10</td>\n",
       "      <td>NR</td>\n",
       "      <td>84 min</td>\n",
       "      <td>Cult Movies, Horror Movies</td>\n",
       "      <td>This collection cherry-picks trailers, forgott...</td>\n",
       "      <td>2010.0</td>\n",
       "    </tr>\n",
       "  </tbody>\n",
       "</table>\n",
       "</div>"
      ],
      "text/plain": [
       "     Show_Id Category                        Title    Director  \\\n",
       "3840   s3841    Movie  Mad Ron's Prevues from Hell  Jim Monaco   \n",
       "\n",
       "                                                   Cast        Country  \\\n",
       "3840  Nick Pawlow, Jordu Schell, Jay Kushwara, Micha...  United States   \n",
       "\n",
       "     Release_Date Rating Duration                        Type  \\\n",
       "3840     1-Nov-10     NR   84 min  Cult Movies, Horror Movies   \n",
       "\n",
       "                                            Description    year  \n",
       "3840  This collection cherry-picks trailers, forgott...  2010.0  "
      ]
     },
     "execution_count": 57,
     "metadata": {},
     "output_type": "execute_result"
    }
   ],
   "source": [
    "# another method df['year'].value_counts().min()\n",
    "df.query('year==2010')"
   ]
  },
  {
   "cell_type": "code",
   "execution_count": 58,
   "id": "303fad46",
   "metadata": {},
   "outputs": [
    {
     "data": {
      "text/plain": [
       "1"
      ]
     },
     "execution_count": 58,
     "metadata": {},
     "output_type": "execute_result"
    }
   ],
   "source": [
    "# another way to find count\n",
    "df['year'].value_counts().min()"
   ]
  },
  {
   "cell_type": "markdown",
   "id": "7fbc4ec6",
   "metadata": {},
   "source": [
    "# Show Top 10 Directors , Who gave the Heighest Number of Tv Shows & Movies to Netflix ?"
   ]
  },
  {
   "cell_type": "code",
   "execution_count": 66,
   "id": "3033bf9e",
   "metadata": {},
   "outputs": [
    {
     "data": {
      "text/plain": [
       "Raúl Campos, Jan Suter    18\n",
       "Marcus Raboy              16\n",
       "Jay Karas                 14\n",
       "Cathy Garcia-Molina       13\n",
       "Jay Chapman               12\n",
       "Youssef Chahine           12\n",
       "Martin Scorsese           12\n",
       "Steven Spielberg          10\n",
       "David Dhawan               9\n",
       "Robert Rodriguez           8\n",
       "Name: Director, dtype: int64"
      ]
     },
     "execution_count": 66,
     "metadata": {},
     "output_type": "execute_result"
    }
   ],
   "source": [
    "df['Director'].value_counts().head(10)"
   ]
  },
  {
   "cell_type": "code",
   "execution_count": null,
   "id": "02cb9b4f",
   "metadata": {},
   "outputs": [],
   "source": []
  },
  {
   "cell_type": "code",
   "execution_count": null,
   "id": "6845fd73",
   "metadata": {},
   "outputs": [],
   "source": []
  },
  {
   "cell_type": "markdown",
   "id": "2fa4cd1e",
   "metadata": {},
   "source": [
    "# What are the different rating defined By the Netflix ?"
   ]
  },
  {
   "cell_type": "code",
   "execution_count": 69,
   "id": "42d1e085",
   "metadata": {},
   "outputs": [
    {
     "data": {
      "text/plain": [
       "array(['TV-MA', 'R', 'PG-13', 'TV-14', 'TV-PG', 'NR', 'TV-G', 'TV-Y', nan,\n",
       "       'TV-Y7', 'PG', 'G', 'NC-17', 'TV-Y7-FV', 'UR'], dtype=object)"
      ]
     },
     "execution_count": 69,
     "metadata": {},
     "output_type": "execute_result"
    }
   ],
   "source": [
    "df['Rating'].unique()"
   ]
  },
  {
   "cell_type": "code",
   "execution_count": null,
   "id": "69ddead5",
   "metadata": {},
   "outputs": [],
   "source": []
  },
  {
   "cell_type": "markdown",
   "id": "a10ca2c5",
   "metadata": {},
   "source": [
    "# What is the maximum duration of Netflix On Tv Show ?"
   ]
  },
  {
   "cell_type": "markdown",
   "id": "d9058da2",
   "metadata": {},
   "source": [
    "The Duration Column has 12 tpe values one is Int and oother is Object, Seprate Both the Values Using \"str.split\" Dunction"
   ]
  },
  {
   "cell_type": "code",
   "execution_count": 70,
   "id": "24295d0a",
   "metadata": {},
   "outputs": [],
   "source": [
    "df[['Minutes' , 'Unit']] = df[\"Duration\"].str.split( \" \" , expand = True)"
   ]
  },
  {
   "cell_type": "code",
   "execution_count": 73,
   "id": "22de83c7",
   "metadata": {},
   "outputs": [
    {
     "data": {
      "text/plain": [
       "'99'"
      ]
     },
     "execution_count": 73,
     "metadata": {},
     "output_type": "execute_result"
    }
   ],
   "source": [
    "df['Minutes'].max()"
   ]
  },
  {
   "cell_type": "markdown",
   "id": "9245c7b5",
   "metadata": {},
   "source": [
    "# How we can sort the dataset By year "
   ]
  },
  {
   "cell_type": "code",
   "execution_count": 76,
   "id": "569d58f9",
   "metadata": {},
   "outputs": [
    {
     "data": {
      "text/html": [
       "<div>\n",
       "<style scoped>\n",
       "    .dataframe tbody tr th:only-of-type {\n",
       "        vertical-align: middle;\n",
       "    }\n",
       "\n",
       "    .dataframe tbody tr th {\n",
       "        vertical-align: top;\n",
       "    }\n",
       "\n",
       "    .dataframe thead th {\n",
       "        text-align: right;\n",
       "    }\n",
       "</style>\n",
       "<table border=\"1\" class=\"dataframe\">\n",
       "  <thead>\n",
       "    <tr style=\"text-align: right;\">\n",
       "      <th></th>\n",
       "      <th>Show_Id</th>\n",
       "      <th>Category</th>\n",
       "      <th>Title</th>\n",
       "      <th>Director</th>\n",
       "      <th>Cast</th>\n",
       "      <th>Country</th>\n",
       "      <th>Release_Date</th>\n",
       "      <th>Rating</th>\n",
       "      <th>Duration</th>\n",
       "      <th>Type</th>\n",
       "      <th>Description</th>\n",
       "      <th>year</th>\n",
       "      <th>Minutes</th>\n",
       "      <th>Unit</th>\n",
       "    </tr>\n",
       "  </thead>\n",
       "  <tbody>\n",
       "    <tr>\n",
       "      <th>7115</th>\n",
       "      <td>s7114</td>\n",
       "      <td>Movie</td>\n",
       "      <td>To and From New York</td>\n",
       "      <td>Sorin Dan Mihalcescu</td>\n",
       "      <td>Barbara King, Shaana Diya, John Krisiukenas, Y...</td>\n",
       "      <td>United States</td>\n",
       "      <td>1-Jan-08</td>\n",
       "      <td>TV-MA</td>\n",
       "      <td>81 min</td>\n",
       "      <td>Dramas, Independent Movies, Thrillers</td>\n",
       "      <td>While covering a story in New York City, a Sea...</td>\n",
       "      <td>2008.0</td>\n",
       "      <td>81</td>\n",
       "      <td>min</td>\n",
       "    </tr>\n",
       "    <tr>\n",
       "      <th>1765</th>\n",
       "      <td>s1766</td>\n",
       "      <td>TV Show</td>\n",
       "      <td>Dinner for Five</td>\n",
       "      <td>NaN</td>\n",
       "      <td>unknown</td>\n",
       "      <td>United States</td>\n",
       "      <td>4-Feb-08</td>\n",
       "      <td>TV-MA</td>\n",
       "      <td>1 Season</td>\n",
       "      <td>Stand-Up Comedy &amp; Talk Shows</td>\n",
       "      <td>In each episode, four celebrities join host Jo...</td>\n",
       "      <td>2008.0</td>\n",
       "      <td>1</td>\n",
       "      <td>Season</td>\n",
       "    </tr>\n",
       "    <tr>\n",
       "      <th>5766</th>\n",
       "      <td>s5766</td>\n",
       "      <td>Movie</td>\n",
       "      <td>Splatter</td>\n",
       "      <td>Joe Dante</td>\n",
       "      <td>Corey Feldman, Tony Todd, Tara Leigh, Erin Way...</td>\n",
       "      <td>United States</td>\n",
       "      <td>18-Nov-09</td>\n",
       "      <td>TV-MA</td>\n",
       "      <td>29 min</td>\n",
       "      <td>Horror Movies</td>\n",
       "      <td>After committing suicide, a washed-up rocker r...</td>\n",
       "      <td>2009.0</td>\n",
       "      <td>29</td>\n",
       "      <td>min</td>\n",
       "    </tr>\n",
       "    <tr>\n",
       "      <th>3248</th>\n",
       "      <td>s3249</td>\n",
       "      <td>Movie</td>\n",
       "      <td>Just Another Love Story</td>\n",
       "      <td>Ole Bornedal</td>\n",
       "      <td>Anders W. Berthelsen, Rebecka Hemse, Nikolaj L...</td>\n",
       "      <td>Denmark</td>\n",
       "      <td>5-May-09</td>\n",
       "      <td>TV-MA</td>\n",
       "      <td>104 min</td>\n",
       "      <td>Dramas, International Movies</td>\n",
       "      <td>When he causes a car accident that leaves a yo...</td>\n",
       "      <td>2009.0</td>\n",
       "      <td>104</td>\n",
       "      <td>min</td>\n",
       "    </tr>\n",
       "    <tr>\n",
       "      <th>3840</th>\n",
       "      <td>s3841</td>\n",
       "      <td>Movie</td>\n",
       "      <td>Mad Ron's Prevues from Hell</td>\n",
       "      <td>Jim Monaco</td>\n",
       "      <td>Nick Pawlow, Jordu Schell, Jay Kushwara, Micha...</td>\n",
       "      <td>United States</td>\n",
       "      <td>1-Nov-10</td>\n",
       "      <td>NR</td>\n",
       "      <td>84 min</td>\n",
       "      <td>Cult Movies, Horror Movies</td>\n",
       "      <td>This collection cherry-picks trailers, forgott...</td>\n",
       "      <td>2010.0</td>\n",
       "      <td>84</td>\n",
       "      <td>min</td>\n",
       "    </tr>\n",
       "    <tr>\n",
       "      <th>...</th>\n",
       "      <td>...</td>\n",
       "      <td>...</td>\n",
       "      <td>...</td>\n",
       "      <td>...</td>\n",
       "      <td>...</td>\n",
       "      <td>...</td>\n",
       "      <td>...</td>\n",
       "      <td>...</td>\n",
       "      <td>...</td>\n",
       "      <td>...</td>\n",
       "      <td>...</td>\n",
       "      <td>...</td>\n",
       "      <td>...</td>\n",
       "      <td>...</td>\n",
       "    </tr>\n",
       "    <tr>\n",
       "      <th>3374</th>\n",
       "      <td>s3375</td>\n",
       "      <td>TV Show</td>\n",
       "      <td>Kikoriki</td>\n",
       "      <td>NaN</td>\n",
       "      <td>Igor Dmitriev</td>\n",
       "      <td>unknown</td>\n",
       "      <td>NaN</td>\n",
       "      <td>TV-Y</td>\n",
       "      <td>2 Seasons</td>\n",
       "      <td>Kids' TV</td>\n",
       "      <td>A wacky rabbit and his gang of animal pals hav...</td>\n",
       "      <td>NaN</td>\n",
       "      <td>2</td>\n",
       "      <td>Seasons</td>\n",
       "    </tr>\n",
       "    <tr>\n",
       "      <th>3492</th>\n",
       "      <td>s3493</td>\n",
       "      <td>TV Show</td>\n",
       "      <td>La Familia P. Luche</td>\n",
       "      <td>NaN</td>\n",
       "      <td>Eugenio Derbez, Consuelo Duval, Luis Manuel Áv...</td>\n",
       "      <td>United States</td>\n",
       "      <td>NaN</td>\n",
       "      <td>TV-14</td>\n",
       "      <td>3 Seasons</td>\n",
       "      <td>International TV Shows, Spanish-Language TV Sh...</td>\n",
       "      <td>This irreverent sitcom featues Ludovico, Feder...</td>\n",
       "      <td>NaN</td>\n",
       "      <td>3</td>\n",
       "      <td>Seasons</td>\n",
       "    </tr>\n",
       "    <tr>\n",
       "      <th>3946</th>\n",
       "      <td>s3947</td>\n",
       "      <td>TV Show</td>\n",
       "      <td>Maron</td>\n",
       "      <td>NaN</td>\n",
       "      <td>Marc Maron, Judd Hirsch, Josh Brener, Nora Zeh...</td>\n",
       "      <td>United States</td>\n",
       "      <td>NaN</td>\n",
       "      <td>TV-MA</td>\n",
       "      <td>4 Seasons</td>\n",
       "      <td>TV Comedies</td>\n",
       "      <td>Marc Maron stars as Marc Maron, who interviews...</td>\n",
       "      <td>NaN</td>\n",
       "      <td>4</td>\n",
       "      <td>Seasons</td>\n",
       "    </tr>\n",
       "    <tr>\n",
       "      <th>5138</th>\n",
       "      <td>s5138</td>\n",
       "      <td>TV Show</td>\n",
       "      <td>Red vs. Blue</td>\n",
       "      <td>NaN</td>\n",
       "      <td>Burnie Burns, Jason Saldaña, Gustavo Sorola, G...</td>\n",
       "      <td>United States</td>\n",
       "      <td>NaN</td>\n",
       "      <td>NR</td>\n",
       "      <td>13 Seasons</td>\n",
       "      <td>TV Action &amp; Adventure, TV Comedies, TV Sci-Fi ...</td>\n",
       "      <td>This parody of first-person shooter games, mil...</td>\n",
       "      <td>NaN</td>\n",
       "      <td>13</td>\n",
       "      <td>Seasons</td>\n",
       "    </tr>\n",
       "    <tr>\n",
       "      <th>6066</th>\n",
       "      <td>s6066</td>\n",
       "      <td>TV Show</td>\n",
       "      <td>The Adventures of Figaro Pho</td>\n",
       "      <td>NaN</td>\n",
       "      <td>Luke Jurevicius, Craig Behenna, Charlotte Haml...</td>\n",
       "      <td>Australia</td>\n",
       "      <td>NaN</td>\n",
       "      <td>TV-Y7</td>\n",
       "      <td>2 Seasons</td>\n",
       "      <td>Kids' TV, TV Comedies</td>\n",
       "      <td>Imagine your worst fears, then multiply them: ...</td>\n",
       "      <td>NaN</td>\n",
       "      <td>2</td>\n",
       "      <td>Seasons</td>\n",
       "    </tr>\n",
       "  </tbody>\n",
       "</table>\n",
       "<p>7789 rows × 14 columns</p>\n",
       "</div>"
      ],
      "text/plain": [
       "     Show_Id Category                         Title              Director  \\\n",
       "7115   s7114    Movie          To and From New York  Sorin Dan Mihalcescu   \n",
       "1765   s1766  TV Show               Dinner for Five                   NaN   \n",
       "5766   s5766    Movie                      Splatter             Joe Dante   \n",
       "3248   s3249    Movie       Just Another Love Story          Ole Bornedal   \n",
       "3840   s3841    Movie   Mad Ron's Prevues from Hell            Jim Monaco   \n",
       "...      ...      ...                           ...                   ...   \n",
       "3374   s3375  TV Show                      Kikoriki                   NaN   \n",
       "3492   s3493  TV Show           La Familia P. Luche                   NaN   \n",
       "3946   s3947  TV Show                         Maron                   NaN   \n",
       "5138   s5138  TV Show                  Red vs. Blue                   NaN   \n",
       "6066   s6066  TV Show  The Adventures of Figaro Pho                   NaN   \n",
       "\n",
       "                                                   Cast        Country  \\\n",
       "7115  Barbara King, Shaana Diya, John Krisiukenas, Y...  United States   \n",
       "1765                                            unknown  United States   \n",
       "5766  Corey Feldman, Tony Todd, Tara Leigh, Erin Way...  United States   \n",
       "3248  Anders W. Berthelsen, Rebecka Hemse, Nikolaj L...        Denmark   \n",
       "3840  Nick Pawlow, Jordu Schell, Jay Kushwara, Micha...  United States   \n",
       "...                                                 ...            ...   \n",
       "3374                                      Igor Dmitriev        unknown   \n",
       "3492  Eugenio Derbez, Consuelo Duval, Luis Manuel Áv...  United States   \n",
       "3946  Marc Maron, Judd Hirsch, Josh Brener, Nora Zeh...  United States   \n",
       "5138  Burnie Burns, Jason Saldaña, Gustavo Sorola, G...  United States   \n",
       "6066  Luke Jurevicius, Craig Behenna, Charlotte Haml...      Australia   \n",
       "\n",
       "     Release_Date Rating    Duration  \\\n",
       "7115     1-Jan-08  TV-MA      81 min   \n",
       "1765     4-Feb-08  TV-MA    1 Season   \n",
       "5766    18-Nov-09  TV-MA      29 min   \n",
       "3248     5-May-09  TV-MA     104 min   \n",
       "3840     1-Nov-10     NR      84 min   \n",
       "...           ...    ...         ...   \n",
       "3374          NaN   TV-Y   2 Seasons   \n",
       "3492          NaN  TV-14   3 Seasons   \n",
       "3946          NaN  TV-MA   4 Seasons   \n",
       "5138          NaN     NR  13 Seasons   \n",
       "6066          NaN  TV-Y7   2 Seasons   \n",
       "\n",
       "                                                   Type  \\\n",
       "7115              Dramas, Independent Movies, Thrillers   \n",
       "1765                       Stand-Up Comedy & Talk Shows   \n",
       "5766                                      Horror Movies   \n",
       "3248                       Dramas, International Movies   \n",
       "3840                         Cult Movies, Horror Movies   \n",
       "...                                                 ...   \n",
       "3374                                           Kids' TV   \n",
       "3492  International TV Shows, Spanish-Language TV Sh...   \n",
       "3946                                        TV Comedies   \n",
       "5138  TV Action & Adventure, TV Comedies, TV Sci-Fi ...   \n",
       "6066                              Kids' TV, TV Comedies   \n",
       "\n",
       "                                            Description    year Minutes  \\\n",
       "7115  While covering a story in New York City, a Sea...  2008.0      81   \n",
       "1765  In each episode, four celebrities join host Jo...  2008.0       1   \n",
       "5766  After committing suicide, a washed-up rocker r...  2009.0      29   \n",
       "3248  When he causes a car accident that leaves a yo...  2009.0     104   \n",
       "3840  This collection cherry-picks trailers, forgott...  2010.0      84   \n",
       "...                                                 ...     ...     ...   \n",
       "3374  A wacky rabbit and his gang of animal pals hav...     NaN       2   \n",
       "3492  This irreverent sitcom featues Ludovico, Feder...     NaN       3   \n",
       "3946  Marc Maron stars as Marc Maron, who interviews...     NaN       4   \n",
       "5138  This parody of first-person shooter games, mil...     NaN      13   \n",
       "6066  Imagine your worst fears, then multiply them: ...     NaN       2   \n",
       "\n",
       "         Unit  \n",
       "7115      min  \n",
       "1765   Season  \n",
       "5766      min  \n",
       "3248      min  \n",
       "3840      min  \n",
       "...       ...  \n",
       "3374  Seasons  \n",
       "3492  Seasons  \n",
       "3946  Seasons  \n",
       "5138  Seasons  \n",
       "6066  Seasons  \n",
       "\n",
       "[7789 rows x 14 columns]"
      ]
     },
     "execution_count": 76,
     "metadata": {},
     "output_type": "execute_result"
    }
   ],
   "source": [
    "df.loc[:].sort_values(by='year')"
   ]
  },
  {
   "cell_type": "markdown",
   "id": "15bb8e2e",
   "metadata": {},
   "source": [
    "# Show all the Records, where \"Category\" is \"Movie\" and \"type\" is \"Horror Movies\" and \"Country\" is \"United Kingdom\". Save the data into a new dataframev(df_new)"
   ]
  },
  {
   "cell_type": "code",
   "execution_count": 84,
   "id": "9464ac7c",
   "metadata": {},
   "outputs": [],
   "source": [
    "df_new = df.query('Category==\"Movie\"& Type == \"Horror Movies\" & Country == \"United Kingdom\"')"
   ]
  },
  {
   "cell_type": "code",
   "execution_count": 85,
   "id": "90f9ddce",
   "metadata": {},
   "outputs": [],
   "source": [
    "df_new.to_csv('df_new.csv',index=False)"
   ]
  },
  {
   "cell_type": "markdown",
   "id": "690ea844",
   "metadata": {},
   "source": [
    "## Save the dataframe (df_save) and load it back without the index column"
   ]
  },
  {
   "cell_type": "code",
   "execution_count": 88,
   "id": "d2766bec",
   "metadata": {},
   "outputs": [],
   "source": [
    "df2 = pd.read_csv('df_new.csv', index_col= [0])"
   ]
  },
  {
   "cell_type": "code",
   "execution_count": 89,
   "id": "39a6e5df",
   "metadata": {},
   "outputs": [
    {
     "data": {
      "text/html": [
       "<div>\n",
       "<style scoped>\n",
       "    .dataframe tbody tr th:only-of-type {\n",
       "        vertical-align: middle;\n",
       "    }\n",
       "\n",
       "    .dataframe tbody tr th {\n",
       "        vertical-align: top;\n",
       "    }\n",
       "\n",
       "    .dataframe thead th {\n",
       "        text-align: right;\n",
       "    }\n",
       "</style>\n",
       "<table border=\"1\" class=\"dataframe\">\n",
       "  <thead>\n",
       "    <tr style=\"text-align: right;\">\n",
       "      <th></th>\n",
       "      <th>Category</th>\n",
       "      <th>Title</th>\n",
       "      <th>Director</th>\n",
       "      <th>Cast</th>\n",
       "      <th>Country</th>\n",
       "      <th>Release_Date</th>\n",
       "      <th>Rating</th>\n",
       "      <th>Duration</th>\n",
       "      <th>Type</th>\n",
       "      <th>Description</th>\n",
       "      <th>year</th>\n",
       "      <th>Minutes</th>\n",
       "      <th>Unit</th>\n",
       "    </tr>\n",
       "    <tr>\n",
       "      <th>Show_Id</th>\n",
       "      <th></th>\n",
       "      <th></th>\n",
       "      <th></th>\n",
       "      <th></th>\n",
       "      <th></th>\n",
       "      <th></th>\n",
       "      <th></th>\n",
       "      <th></th>\n",
       "      <th></th>\n",
       "      <th></th>\n",
       "      <th></th>\n",
       "      <th></th>\n",
       "      <th></th>\n",
       "    </tr>\n",
       "  </thead>\n",
       "  <tbody>\n",
       "    <tr>\n",
       "      <th>s2406</th>\n",
       "      <td>Movie</td>\n",
       "      <td>Ghosts of War</td>\n",
       "      <td>Eric Bress</td>\n",
       "      <td>Brenton Thwaites, Theo Rossi, Skylar Astin, Ky...</td>\n",
       "      <td>United Kingdom</td>\n",
       "      <td>25-Nov-20</td>\n",
       "      <td>R</td>\n",
       "      <td>95 min</td>\n",
       "      <td>Horror Movies</td>\n",
       "      <td>Five, battle-worn Allied soldiers guarding a c...</td>\n",
       "      <td>2020.0</td>\n",
       "      <td>95</td>\n",
       "      <td>min</td>\n",
       "    </tr>\n",
       "    <tr>\n",
       "      <th>s6371</th>\n",
       "      <td>Movie</td>\n",
       "      <td>The Forgotten</td>\n",
       "      <td>Oliver Frampton</td>\n",
       "      <td>Clem Tibber, Elarica Johnson, James Doherty, S...</td>\n",
       "      <td>United Kingdom</td>\n",
       "      <td>11-Sep-17</td>\n",
       "      <td>TV-MA</td>\n",
       "      <td>89 min</td>\n",
       "      <td>Horror Movies</td>\n",
       "      <td>After a teenager goes to live with his father ...</td>\n",
       "      <td>2017.0</td>\n",
       "      <td>89</td>\n",
       "      <td>min</td>\n",
       "    </tr>\n",
       "  </tbody>\n",
       "</table>\n",
       "</div>"
      ],
      "text/plain": [
       "        Category          Title         Director  \\\n",
       "Show_Id                                            \n",
       "s2406      Movie  Ghosts of War       Eric Bress   \n",
       "s6371      Movie  The Forgotten  Oliver Frampton   \n",
       "\n",
       "                                                      Cast         Country  \\\n",
       "Show_Id                                                                      \n",
       "s2406    Brenton Thwaites, Theo Rossi, Skylar Astin, Ky...  United Kingdom   \n",
       "s6371    Clem Tibber, Elarica Johnson, James Doherty, S...  United Kingdom   \n",
       "\n",
       "        Release_Date Rating Duration           Type  \\\n",
       "Show_Id                                               \n",
       "s2406      25-Nov-20      R   95 min  Horror Movies   \n",
       "s6371      11-Sep-17  TV-MA   89 min  Horror Movies   \n",
       "\n",
       "                                               Description    year  Minutes  \\\n",
       "Show_Id                                                                       \n",
       "s2406    Five, battle-worn Allied soldiers guarding a c...  2020.0       95   \n",
       "s6371    After a teenager goes to live with his father ...  2017.0       89   \n",
       "\n",
       "        Unit  \n",
       "Show_Id       \n",
       "s2406    min  \n",
       "s6371    min  "
      ]
     },
     "execution_count": 89,
     "metadata": {},
     "output_type": "execute_result"
    }
   ],
   "source": [
    "df2.head()"
   ]
  },
  {
   "cell_type": "markdown",
   "id": "e89d1120",
   "metadata": {},
   "source": [
    "## Write a overall summary on what did you understand from this data analysis. "
   ]
  },
  {
   "cell_type": "code",
   "execution_count": 18,
   "id": "3eef89c3",
   "metadata": {},
   "outputs": [],
   "source": [
    "# Use markdown cell to type answer"
   ]
  },
  {
   "cell_type": "markdown",
   "id": "7c0a58c5",
   "metadata": {},
   "source": [
    "I learned how to do advanced search, how to save for csv files and opening the saved information again. I also learned how to slice and displauy the data from the csv files.  "
   ]
  }
 ],
 "metadata": {
  "kernelspec": {
   "display_name": "Python 3 (ipykernel)",
   "language": "python",
   "name": "python3"
  },
  "language_info": {
   "codemirror_mode": {
    "name": "ipython",
    "version": 3
   },
   "file_extension": ".py",
   "mimetype": "text/x-python",
   "name": "python",
   "nbconvert_exporter": "python",
   "pygments_lexer": "ipython3",
   "version": "3.9.13"
  }
 },
 "nbformat": 4,
 "nbformat_minor": 5
}
